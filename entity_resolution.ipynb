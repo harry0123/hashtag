{
 "metadata": {
  "name": ""
 },
 "nbformat": 3,
 "nbformat_minor": 0,
 "worksheets": [
  {
   "cells": [
    {
     "cell_type": "code",
     "collapsed": false,
     "input": [
      "import pandas as pd\n",
      "import string\n",
      "\n",
      "DATA_PATH = \"/home/saasbook/hashtag/\"\n",
      "\n",
      "tweets = pd.read_csv(DATA_PATH+'tweets.csv', low_memory=False).drop_duplicates()\n",
      "\n",
      "#print tweets.info()\n",
      "tweets = tweets[['id_str', 'screen_name', 'created_at', 'text', 'retweet_count', 'hashtags', 'lat', 'lng']]\n",
      "print tweets.info()"
     ],
     "language": "python",
     "metadata": {},
     "outputs": [
      {
       "output_type": "stream",
       "stream": "stdout",
       "text": [
        "<class 'pandas.core.frame.DataFrame'>\n",
        "Int64Index: 206672 entries, 0 to 206671\n",
        "Data columns (total 8 columns):\n",
        "id_str           206672  non-null values\n",
        "screen_name      206672  non-null values\n",
        "created_at       206672  non-null values\n",
        "text             206672  non-null values\n",
        "retweet_count    206672  non-null values\n",
        "hashtags         84666  non-null values\n",
        "lat              7012  non-null values\n",
        "lng              6273  non-null values\n",
        "dtypes: float64(1), int64(2), object(5)None\n"
       ]
      }
     ],
     "prompt_number": 1
    },
    {
     "cell_type": "code",
     "collapsed": false,
     "input": [
      "stopwords = [line.rstrip() for line in open(DATA_PATH + \"stopwords.txt\", 'r')] # Load from file\n",
      "quickbrownfox = \"A quick brown fox jumps over the lazy dog\"\n",
      "import re\n",
      "\n",
      "def simple_tokenize(string):\n",
      "    split_regex = r'[\\s\\xe2\\x80\\x9c\\xe2\\x80\\x9d]+'\n",
      "    return filter(None, re.split(split_regex, string.lower()))\n",
      "\n",
      "\n",
      "def tokenize(string):\n",
      "    tmp = [word for word in simple_tokenize(string) if word not in stopwords]\n",
      "    tokens = []\n",
      "    for word in tmp:\n",
      "        if \"http://\" not in word:\n",
      "            tok = \"\".join(l for l in word if l not in ['!','.',':','?','\\\\','$','&','%','\\\"','(',')','*',',',';','_','`','~','+'])\n",
      "            if len(tok) > 0:\n",
      "                tokens.append(tok)\n",
      "    return tokens\n",
      "\n",
      "#print tokenize(quickbrownfox) # Should give ['quick', 'brown', ... ]\n",
      "\n",
      "print tweets[tweets['id_str']==454479340789837824].text.item()\n",
      "print type(tweets[tweets['id_str']==454479340789837824].text.item())\n"
     ],
     "language": "python",
     "metadata": {},
     "outputs": [
      {
       "output_type": "stream",
       "stream": "stdout",
       "text": [
        "\u201c@StyleList: An outfit for each day of #Coachella's first weekend: http://t.co/5xGyX7QfH3 http://t.co/ZOZZc8GF5F\u201d\n",
        "<type 'str'>\n"
       ]
      }
     ],
     "prompt_number": 2
    },
    {
     "cell_type": "code",
     "collapsed": false,
     "input": [
      "tweets['text_tokens'] = tweets['text'].apply(tokenize)\n",
      "print tweets[tweets['id_str']==454479340789837824].text_tokens.item()"
     ],
     "language": "python",
     "metadata": {},
     "outputs": [
      {
       "output_type": "stream",
       "stream": "stdout",
       "text": [
        "['@stylelist', 'outfit', 'day', \"#coachella's\", 'first', 'weekend']\n"
       ]
      }
     ],
     "prompt_number": 3
    },
    {
     "cell_type": "code",
     "collapsed": false,
     "input": [
      "from collections import Counter\n",
      "def tf(tokens):\n",
      "    total = float(len(tokens))\n",
      "    count = Counter()\n",
      "    for word in tokens:\n",
      "        count[word] += 1\n",
      "    count = dict(count)\n",
      "    for word in count:\n",
      "        count[word] = float(count[word]) / total\n",
      "    return count\n",
      "\n",
      "tweets['tf'] = tweets['text_tokens'].apply(tf)\n",
      "#print tweets.head(20)"
     ],
     "language": "python",
     "metadata": {},
     "outputs": [],
     "prompt_number": 4
    },
    {
     "cell_type": "code",
     "collapsed": false,
     "input": [
      "tok = tweets['text_tokens'].values\n",
      "\n",
      "def find_idfs(tweet_list):\n",
      "    idfs = Counter()\n",
      "    total = len(tweet_list) #total number of tweets\n",
      "    for tweet in tweet_list:\n",
      "        words = set()\n",
      "        for word in tweet:\n",
      "            words.add(word)\n",
      "        for word in words:\n",
      "            idfs[word] += 1\n",
      "        \n",
      "            \n",
      "    for key in idfs:\n",
      "        idfs[key] = float(total) / float(idfs[key])\n",
      "        \n",
      "    idfs = dict(idfs)\n",
      "    return idfs\n",
      "\n",
      "tweet_idfs = find_idfs(tok)\n",
      "\"\"\"\n",
      "asdf = 0\n",
      "for key in tweet_idfs:\n",
      "    print key\n",
      "    print tweet_idfs[key]\n",
      "    if asdf > 9:\n",
      "        break\n",
      "    asdf += 1\n",
      "\"\"\"\n",
      "unique_tokens = len(tweet_idfs)\n",
      "#print idfs_small\n",
      "\n",
      "print \"There are %s unique tokens in the tweets.\" % unique_tokens\n",
      "\n",
      "\n",
      "\n",
      "import operator\n",
      "small_idf_tokens = [val[0] for val in sorted(tweet_idfs.items(), key=operator.itemgetter(1))[0:100]]\n",
      "\n",
      "print small_idf_tokens"
     ],
     "language": "python",
     "metadata": {},
     "outputs": [
      {
       "output_type": "stream",
       "stream": "stdout",
       "text": [
        "There are 73492 unique tokens in the tweets.\n",
        "['#coachella', 'rt', '\\xa6', 'amp', '@justinbieber', '@billboard', '50', '@beyonce', 'social', 'chart', 'boosts', 'weekend', 'coachella', 'day', '@scooterbraun', 'now', '#coachella2014', '@heffrondrive', '2', '@coachella', 'night', '@', 'festival', 'see', 'going', 'music', 'today', 'u', 'make', 'just', 'last', 'chance', 'look', 'rapper', '2014', 'like', 'thank', '1', 'time', 'sure', 'may', 'stage', 'go', 'native', '@alfredoflores', 'american', 'ran', 'are', \"can't\", 'figure', 'otherwise', '#jendall', 'tonight', 'imaginary', '@colesprouse', 'noth', 'jendall', 'katelyntarver', '-', 'best', 'back', '#muse', '@martingarrix', 'new', 'earlier', 'shut', 'bro', 'view', 'love', 'here', '@eonline', 'set', 'great', 'h', 'one', 'photos', '@calvinharris', '3', 'get', '@hrhpalmsprings', '#parallel', '@showtekmusic', '@eonlineuk', 'de', '@katyperry', '@jessjackson', '@str8fwdmusic', '@esty', '@jcjonesofficial', '\\xf0\\x9f\\x98\\x82', 'guy', 'got', 'literally', 'muse', 'good', 'food', '#heffrondrive', 'photo', 'happy', 'bad']"
       ]
      },
      {
       "output_type": "stream",
       "stream": "stdout",
       "text": [
        "\n"
       ]
      }
     ],
     "prompt_number": 6
    },
    {
     "cell_type": "code",
     "collapsed": false,
     "input": [
      "import pylab\n",
      "%matplotlib inline\n",
      "\n",
      "pylab.hist(tweet_idfs.values(), bins=100)\n"
     ],
     "language": "python",
     "metadata": {},
     "outputs": [
      {
       "metadata": {},
       "output_type": "pyout",
       "prompt_number": 7,
       "text": [
        "(array([ 1818,  1131,   794,   763,   697,   590,   519,   636,   346,\n",
        "         920,     0,   639,   692,     0,   954,     0,  1250,     0,\n",
        "           0,  1730,     0,     0,     0,     0,  2676,     0,     0,\n",
        "           0,     0,     0,     0,     0,     0,  4768,     0,     0,\n",
        "           0,     0,     0,     0,     0,     0,     0,     0,     0,\n",
        "           0,     0,     0,     0, 10747,     0,     0,     0,     0,\n",
        "           0,     0,     0,     0,     0,     0,     0,     0,     0,\n",
        "           0,     0,     0,     0,     0,     0,     0,     0,     0,\n",
        "           0,     0,     0,     0,     0,     0,     0,     0,     0,\n",
        "           0,     0,     0,     0,     0,     0,     0,     0,     0,\n",
        "           0,     0,     0,     0,     0,     0,     0,     0,     0, 41822]),\n",
        " array([  1.04097473e+00,   2.06775056e+03,   4.13446016e+03,\n",
        "         6.20116975e+03,   8.26787934e+03,   1.03345889e+04,\n",
        "         1.24012985e+04,   1.44680081e+04,   1.65347177e+04,\n",
        "         1.86014273e+04,   2.06681369e+04,   2.27348465e+04,\n",
        "         2.48015561e+04,   2.68682656e+04,   2.89349752e+04,\n",
        "         3.10016848e+04,   3.30683944e+04,   3.51351040e+04,\n",
        "         3.72018136e+04,   3.92685232e+04,   4.13352328e+04,\n",
        "         4.34019424e+04,   4.54686520e+04,   4.75353616e+04,\n",
        "         4.96020711e+04,   5.16687807e+04,   5.37354903e+04,\n",
        "         5.58021999e+04,   5.78689095e+04,   5.99356191e+04,\n",
        "         6.20023287e+04,   6.40690383e+04,   6.61357479e+04,\n",
        "         6.82024575e+04,   7.02691670e+04,   7.23358766e+04,\n",
        "         7.44025862e+04,   7.64692958e+04,   7.85360054e+04,\n",
        "         8.06027150e+04,   8.26694246e+04,   8.47361342e+04,\n",
        "         8.68028438e+04,   8.88695534e+04,   9.09362629e+04,\n",
        "         9.30029725e+04,   9.50696821e+04,   9.71363917e+04,\n",
        "         9.92031013e+04,   1.01269811e+05,   1.03336520e+05,\n",
        "         1.05403230e+05,   1.07469940e+05,   1.09536649e+05,\n",
        "         1.11603359e+05,   1.13670068e+05,   1.15736778e+05,\n",
        "         1.17803488e+05,   1.19870197e+05,   1.21936907e+05,\n",
        "         1.24003616e+05,   1.26070326e+05,   1.28137036e+05,\n",
        "         1.30203745e+05,   1.32270455e+05,   1.34337164e+05,\n",
        "         1.36403874e+05,   1.38470584e+05,   1.40537293e+05,\n",
        "         1.42604003e+05,   1.44670712e+05,   1.46737422e+05,\n",
        "         1.48804131e+05,   1.50870841e+05,   1.52937551e+05,\n",
        "         1.55004260e+05,   1.57070970e+05,   1.59137679e+05,\n",
        "         1.61204389e+05,   1.63271099e+05,   1.65337808e+05,\n",
        "         1.67404518e+05,   1.69471227e+05,   1.71537937e+05,\n",
        "         1.73604647e+05,   1.75671356e+05,   1.77738066e+05,\n",
        "         1.79804775e+05,   1.81871485e+05,   1.83938195e+05,\n",
        "         1.86004904e+05,   1.88071614e+05,   1.90138323e+05,\n",
        "         1.92205033e+05,   1.94271742e+05,   1.96338452e+05,\n",
        "         1.98405162e+05,   2.00471871e+05,   2.02538581e+05,\n",
        "         2.04605290e+05,   2.06672000e+05]),\n",
        " <a list of 100 Patch objects>)"
       ]
      },
      {
       "metadata": {},
       "output_type": "display_data",
       "png": "[encoded data removed]",
       "text": [
        "<matplotlib.figure.Figure at 0x1946ac0c>"
       ]
      }
     ],
     "prompt_number": 7
    },
    {
     "cell_type": "code",
     "collapsed": false,
     "input": [
      "def find_hashtags(tokens):\n",
      "    hashtags = []\n",
      "    for word in tokens:\n",
      "        if word[0] == '#':\n",
      "            hashtags.append(word[1:])\n",
      "    return list(set(hashtags))\n",
      "\n",
      "\n",
      "tweets['hashtags'] = tweets['text_tokens'].apply(find_hashtags)\n",
      "print tweets['hashtags'].head()"
     ],
     "language": "python",
     "metadata": {},
     "outputs": [
      {
       "output_type": "stream",
       "stream": "stdout",
       "text": [
        "0                                          [coachella]\n",
        "1    [morrissey, thecure, sirpaulmccartney, coachel...\n",
        "2                              [bucketlist, coachella]\n",
        "3                                          [coachella]\n",
        "4                                        [coachella's]\n",
        "Name: hashtags, dtype: object\n"
       ]
      },
      {
       "output_type": "stream",
       "stream": "stderr",
       "text": [
        "-c:9: SettingWithCopyWarning: A value is trying to be set on a copy of a slice from a DataFrame.\n",
        "Try using .loc[row_index,col_indexer] = value instead\n"
       ]
      }
     ],
     "prompt_number": 8
    },
    {
     "cell_type": "code",
     "collapsed": false,
     "input": [
      "hashtag_frequency = {}\n",
      "for lst in tweets['hashtags']:\n",
      "    for word in lst:\n",
      "        if word not in hashtag_frequency:\n",
      "            hashtag_frequency[word] = 0\n",
      "        hashtag_frequency[word] += 1\n",
      "\n",
      "for name, score in sorted(hashtag_frequency.iteritems(), key=lambda (k, v): (-v, k))[:10]:\n",
      "    print name, score"
     ],
     "language": "python",
     "metadata": {},
     "outputs": [
      {
       "output_type": "stream",
       "stream": "stdout",
       "text": [
        "coachella 198537\n",
        "coachella2014 8511\n",
        "jendall 4031\n",
        "muse 3723\n",
        "parallel 2828\n",
        "heffrondrive 2707\n",
        "onedrive 2319\n",
        "help 2203\n",
        "sorryonedirectionweloveyou 2192\n",
        "fo 2175\n"
       ]
      }
     ],
     "prompt_number": 9
    },
    {
     "cell_type": "code",
     "collapsed": false,
     "input": [
      "train = [('I love this sandwich.', 'pos'),\n",
      "('This is an amazing place!', 'pos'),\n",
      "('I feel very good about these beers.', 'pos'),\n",
      "('This is my best work.', 'pos'),\n",
      "(\"What an awesome view\", 'pos'),\n",
      "('I do not like this restaurant', 'neg'),\n",
      "('I am tired of this stuff.', 'neg'),\n",
      "(\"I can't deal with this\", 'neg'),\n",
      "('He is my sworn enemy!', 'neg'),\n",
      "('My boss is horrible.', 'neg')]"
     ],
     "language": "python",
     "metadata": {},
     "outputs": [],
     "prompt_number": 10
    },
    {
     "cell_type": "code",
     "collapsed": false,
     "input": [
      "#from nltk.tokenize import word_tokenize\n",
      "all_words = set(word.lower() for passage in train for word in tokenize(passage[0]))\n",
      "t = [({word: (word in tokenize(x[0])) for word in all_words}, x[1]) for x in train]"
     ],
     "language": "python",
     "metadata": {},
     "outputs": [],
     "prompt_number": 11
    },
    {
     "cell_type": "code",
     "collapsed": false,
     "input": [
      "print t"
     ],
     "language": "python",
     "metadata": {},
     "outputs": [
      {
       "output_type": "stream",
       "stream": "stdout",
       "text": [
        "[({'enemy': False, 'sandwich': True, 'love': True, 'like': False, 'deal': False, 'restaurant': False, 'feel': False, 'awesome': False, 'work': False, 'tired': False, 'boss': False, 'amazing': False, 'good': False, 'place': False, 'best': False, 'stuff': False, 'beers': False, 'sworn': False, 'horrible': False, \"can't\": False, 'view': False}, 'pos'), ({'enemy': False, 'sandwich': False, 'love': False, 'like': False, 'deal': False, 'restaurant': False, 'feel': False, 'awesome': False, 'work': False, 'tired': False, 'boss': False, 'amazing': True, 'good': False, 'place': True, 'best': False, 'stuff': False, 'beers': False, 'sworn': False, 'horrible': False, \"can't\": False, 'view': False}, 'pos'), ({'enemy': False, 'sandwich': False, 'love': False, 'like': False, 'deal': False, 'restaurant': False, 'feel': True, 'awesome': False, 'work': False, 'tired': False, 'boss': False, 'amazing': False, 'good': True, 'place': False, 'best': False, 'stuff': False, 'beers': True, 'sworn': False, 'horrible': False, \"can't\": False, 'view': False}, 'pos'), ({'enemy': False, 'sandwich': False, 'love': False, 'like': False, 'deal': False, 'restaurant': False, 'feel': False, 'awesome': False, 'work': True, 'tired': False, 'boss': False, 'amazing': False, 'good': False, 'place': False, 'best': True, 'stuff': False, 'beers': False, 'sworn': False, 'horrible': False, \"can't\": False, 'view': False}, 'pos'), ({'enemy': False, 'sandwich': False, 'love': False, 'like': False, 'deal': False, 'restaurant': False, 'feel': False, 'awesome': True, 'work': False, 'tired': False, 'boss': False, 'amazing': False, 'good': False, 'place': False, 'best': False, 'stuff': False, 'beers': False, 'sworn': False, 'horrible': False, \"can't\": False, 'view': True}, 'pos'), ({'enemy': False, 'sandwich': False, 'love': False, 'like': True, 'deal': False, 'restaurant': True, 'feel': False, 'awesome': False, 'work': False, 'tired': False, 'boss': False, 'amazing': False, 'good': False, 'place': False, 'best': False, 'stuff': False, 'beers': False, 'sworn': False, 'horrible': False, \"can't\": False, 'view': False}, 'neg'), ({'enemy': False, 'sandwich': False, 'love': False, 'like': False, 'deal': False, 'restaurant': False, 'feel': False, 'awesome': False, 'work': False, 'tired': True, 'boss': False, 'amazing': False, 'good': False, 'place': False, 'best': False, 'stuff': True, 'beers': False, 'sworn': False, 'horrible': False, \"can't\": False, 'view': False}, 'neg'), ({'enemy': False, 'sandwich': False, 'love': False, 'like': False, 'deal': True, 'restaurant': False, 'feel': False, 'awesome': False, 'work': False, 'tired': False, 'boss': False, 'amazing': False, 'good': False, 'place': False, 'best': False, 'stuff': False, 'beers': False, 'sworn': False, 'horrible': False, \"can't\": True, 'view': False}, 'neg'), ({'enemy': True, 'sandwich': False, 'love': False, 'like': False, 'deal': False, 'restaurant': False, 'feel': False, 'awesome': False, 'work': False, 'tired': False, 'boss': False, 'amazing': False, 'good': False, 'place': False, 'best': False, 'stuff': False, 'beers': False, 'sworn': True, 'horrible': False, \"can't\": False, 'view': False}, 'neg'), ({'enemy': False, 'sandwich': False, 'love': False, 'like': False, 'deal': False, 'restaurant': False, 'feel': False, 'awesome': False, 'work': False, 'tired': False, 'boss': True, 'amazing': False, 'good': False, 'place': False, 'best': False, 'stuff': False, 'beers': False, 'sworn': False, 'horrible': True, \"can't\": False, 'view': False}, 'neg')]\n"
       ]
      }
     ],
     "prompt_number": 12
    },
    {
     "cell_type": "code",
     "collapsed": false,
     "input": [
      "import nltk\n",
      "classifier = nltk.NaiveBayesClassifier.train(t)\n",
      "classifier.show_most_informative_features()\n",
      "test_sentence = \"This is the best band I've ever heard\""
     ],
     "language": "python",
     "metadata": {},
     "outputs": [
      {
       "output_type": "stream",
       "stream": "stdout",
       "text": [
        "Most Informative Features\n",
        "                   can't = False             pos : neg    =      1.2 : 1.0\n",
        "                    feel = False             neg : pos    =      1.2 : 1.0\n",
        "                   place = False             neg : pos    =      1.2 : 1.0\n",
        "                horrible = False             pos : neg    =      1.2 : 1.0\n",
        "                    like = False             pos : neg    =      1.2 : 1.0\n",
        "                   sworn = False             pos : neg    =      1.2 : 1.0\n",
        "                    view = False             neg : pos    =      1.2 : 1.0\n",
        "                    love = False             neg : pos    =      1.2 : 1.0\n",
        "                 amazing = False             neg : pos    =      1.2 : 1.0\n",
        "                    best = False             neg : pos    =      1.2 : 1.0\n"
       ]
      }
     ],
     "prompt_number": 13
    },
    {
     "cell_type": "code",
     "collapsed": false,
     "input": [
      "def get_features(sentence):\n",
      "    return {word.lower(): (word in tokenize(sentence.lower())) for word in all_words}"
     ],
     "language": "python",
     "metadata": {},
     "outputs": [],
     "prompt_number": 14
    },
    {
     "cell_type": "code",
     "collapsed": false,
     "input": [
      "#print get_features(test_sentence)\n",
      "classifier.classify(get_features(test_sentence))"
     ],
     "language": "python",
     "metadata": {},
     "outputs": [
      {
       "metadata": {},
       "output_type": "pyout",
       "prompt_number": 15,
       "text": [
        "'pos'"
       ]
      }
     ],
     "prompt_number": 15
    },
    {
     "cell_type": "code",
     "collapsed": false,
     "input": [
      "tweets['sentiment'] = tweets['text']\n",
      "tweets['sentiment'] = tweets['sentiment'].apply(get_features)\n",
      "tweets['sentiment'].head()"
     ],
     "language": "python",
     "metadata": {},
     "outputs": [
      {
       "output_type": "stream",
       "stream": "stderr",
       "text": [
        "-c:2: SettingWithCopyWarning: A value is trying to be set on a copy of a slice from a DataFrame.\n",
        "Try using .loc[row_index,col_indexer] = value instead\n"
       ]
      },
      {
       "metadata": {},
       "output_type": "pyout",
       "prompt_number": 16,
       "text": [
        "0    {u'enemy': False, u'sandwich': False, u'love':...\n",
        "1    {u'enemy': False, u'sandwich': False, u'love':...\n",
        "2    {u'enemy': False, u'sandwich': False, u'love':...\n",
        "3    {u'enemy': False, u'sandwich': False, u'love':...\n",
        "4    {u'enemy': False, u'sandwich': False, u'love':...\n",
        "Name: sentiment, dtype: object"
       ]
      }
     ],
     "prompt_number": 16
    },
    {
     "cell_type": "code",
     "collapsed": false,
     "input": [
      "tweets['sentiment'] = tweets['sentiment'].apply(classifier.classify)\n",
      "tweets[tweets['sentiment'] != 'neg'].count()"
     ],
     "language": "python",
     "metadata": {},
     "outputs": [
      {
       "output_type": "stream",
       "stream": "stderr",
       "text": [
        "-c:1: SettingWithCopyWarning: A value is trying to be set on a copy of a slice from a DataFrame.\n",
        "Try using .loc[row_index,col_indexer] = value instead\n"
       ]
      },
      {
       "metadata": {},
       "output_type": "pyout",
       "prompt_number": 17,
       "text": [
        "id_str           13189\n",
        "screen_name      13189\n",
        "created_at       13189\n",
        "text             13189\n",
        "retweet_count    13189\n",
        "hashtags         13189\n",
        "lat                660\n",
        "lng                585\n",
        "text_tokens      13189\n",
        "tf               13189\n",
        "sentiment        13189\n",
        "dtype: int64"
       ]
      }
     ],
     "prompt_number": 17
    },
    {
     "cell_type": "code",
     "collapsed": false,
     "input": [
      "#import tweepy\n",
      "consumer_key = \"kbda5XZrVIwwo8ppqHUFptybU\"\n",
      "consumer_secret = \"gLOKekN2ILvkJhgeDjSF7QtUxlAuTbJBCiDV7FVG4LTldleFjn\"\n",
      "access_token = \"572182885-U7wIsMrG3J9rggpHEtVq7KjhSp8sFPK4L4v6Dheq\"\n",
      "access_token_secret = \"jnchmux0C5AFsbCO9T5wpT725Z69s5C8uZmR5Fd2s9WVo\"\n",
      "\n",
      "from twython import Twython\n",
      "\n",
      "twitter = Twython(consumer_key, consumer_secret, access_token, access_token_secret)\n",
      "\n",
      "#print twitter.lookup_user(screen_name=\"JustJoya\")[0]['followers_count']\n",
      "\n",
      "def get_followers_count(name):\n",
      "    try:\n",
      "        user = twitter.lookup_user(screen_name=name)[0]\n",
      "        return user['followers_count']\n",
      "    except:\n",
      "        return -1\n",
      "\n",
      "\n",
      "#print get_followers_count(\"kajdhcvbakjdfgb jlakbghfdla\")\n",
      "#tweets['followers_count'] = tweets['screen_name'].apply(get_followers_count)\n",
      "#tweets['followers_count'].head()"
     ],
     "language": "python",
     "metadata": {},
     "outputs": [],
     "prompt_number": "*"
    }
   ],
   "metadata": {}
  }
 ]
}
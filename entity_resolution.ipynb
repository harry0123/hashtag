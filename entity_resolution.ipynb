{
 "metadata": {
  "name": ""
 },
 "nbformat": 3,
 "nbformat_minor": 0,
 "worksheets": [
  {
   "cells": [
    {
     "cell_type": "code",
     "collapsed": false,
     "input": [
      "import pandas as pd\n",
      "import string\n",
      "\n",
      "DATA_PATH = \"/home/saasbook/hashtag/\"\n",
      "\n",
      "tweets = pd.read_csv(DATA_PATH+'tweets.csv', low_memory=False).drop_duplicates()\n",
      "\n",
      "#print tweets.info()\n",
      "tweets = tweets[['id_str', 'created_at', 'text', 'retweet_count', 'hashtags', 'lat', 'lng']]\n",
      "print tweets.info()"
     ],
     "language": "python",
     "metadata": {},
     "outputs": [
      {
       "output_type": "stream",
       "stream": "stdout",
       "text": [
        "<class 'pandas.core.frame.DataFrame'>\n",
        "Int64Index: 206672 entries, 0 to 206671\n",
        "Data columns (total 7 columns):\n",
        "id_str           206672  non-null values\n",
        "created_at       206672  non-null values\n",
        "text             206672  non-null values\n",
        "retweet_count    206672  non-null values\n",
        "hashtags         84666  non-null values\n",
        "lat              7012  non-null values\n",
        "lng              6273  non-null values\n",
        "dtypes: float64(1), int64(2), object(4)None\n",
        "!\"#$%&'()*+,-./:;<=>?@[\\]^_`{|}~\n"
       ]
      }
     ],
     "prompt_number": 21
    },
    {
     "cell_type": "code",
     "collapsed": false,
     "input": [
      "stopwords = [line.rstrip() for line in open(DATA_PATH + \"stopwords.txt\", 'r')] # Load from file\n",
      "quickbrownfox = \"A quick brown fox jumps over the lazy dog\"\n",
      "import re\n",
      "\n",
      "def simple_tokenize(string):\n",
      "    split_regex = r'[\\s\\xe2\\x80\\x9c\\xe2\\x80\\x9d]+'\n",
      "    return filter(None, re.split(split_regex, string.lower()))\n",
      "\n",
      "import string\n",
      "def tokenize(string):\n",
      "    tmp = [word for word in simple_tokenize(string) if word not in stopwords]\n",
      "    tokens = []\n",
      "    for word in tmp:\n",
      "        if \"http://\" not in word:\n",
      "            tok = \"\".join(l for l in word if l not in ['!','.',':','?','\\\\','$','&','%','\\\"','(',')','*',',',';','_','`','~','+'])\n",
      "            if len(tok) > 0:\n",
      "                tokens.append(tok)\n",
      "    return tokens\n",
      "\n",
      "#print tokenize(quickbrownfox) # Should give ['quick', 'brown', ... ]\n",
      "\n",
      "print tweets[tweets['id_str']==454479340789837824].text.item()\n",
      "print type(tweets[tweets['id_str']==454479340789837824].text.item())\n"
     ],
     "language": "python",
     "metadata": {},
     "outputs": [
      {
       "output_type": "stream",
       "stream": "stdout",
       "text": [
        "\u201c@StyleList: An outfit for each day of #Coachella's first weekend: http://t.co/5xGyX7QfH3 http://t.co/ZOZZc8GF5F\u201d\n",
        "<type 'str'>\n"
       ]
      }
     ],
     "prompt_number": 51
    },
    {
     "cell_type": "code",
     "collapsed": false,
     "input": [
      "tweets['text_tokens'] = tweets['text'].apply(tokenize)\n",
      "print tweets[tweets['id_str']==454479340789837824].text_tokens.item()"
     ],
     "language": "python",
     "metadata": {},
     "outputs": [
      {
       "output_type": "stream",
       "stream": "stdout",
       "text": [
        "['@stylelist', 'outfit', 'day', \"#coachella's\", 'first', 'weekend']\n"
       ]
      }
     ],
     "prompt_number": 52
    },
    {
     "cell_type": "code",
     "collapsed": false,
     "input": [
      "from collections import Counter\n",
      "def tf(tokens):\n",
      "    total = float(len(tokens))\n",
      "    count = Counter()\n",
      "    for word in tokens:\n",
      "        count[word] += 1\n",
      "    count = dict(count)\n",
      "    for word in count:\n",
      "        count[word] = float(count[word]) / total\n",
      "    return count\n",
      "\n",
      "tweets['tf'] = tweets['text_tokens'].apply(tf)\n",
      "#print tweets.head(20)"
     ],
     "language": "python",
     "metadata": {},
     "outputs": [],
     "prompt_number": 53
    },
    {
     "cell_type": "code",
     "collapsed": false,
     "input": [
      "tok = tweets['text_tokens'].values\n",
      "\n",
      "def find_idfs(tweet_list):\n",
      "    idfs = Counter()\n",
      "    total = len(tweet_list) #total number of tweets\n",
      "    for tweet in tweet_list:\n",
      "        words = set()\n",
      "        for word in tweet:\n",
      "            words.add(word)\n",
      "        for word in words:\n",
      "            idfs[word] += 1\n",
      "        \n",
      "            \n",
      "    for key in idfs:\n",
      "        idfs[key] = float(total) / float(idfs[key])\n",
      "        \n",
      "    idfs = dict(idfs)\n",
      "    return idfs\n",
      "\n",
      "tweet_idfs = find_idfs(tok)\n",
      "\"\"\"\n",
      "asdf = 0\n",
      "for key in tweet_idfs:\n",
      "    print key\n",
      "    print tweet_idfs[key]\n",
      "    if asdf > 9:\n",
      "        break\n",
      "    asdf += 1\n",
      "\"\"\"\n",
      "unique_tokens = len(tweet_idfs)\n",
      "#print idfs_small\n",
      "\n",
      "print \"There are %s unique tokens in the tweets.\" % unique_tokens\n",
      "\n",
      "\n",
      "\n",
      "import operator\n",
      "small_idf_tokens = [val[0] for val in sorted(tweet_idfs.items(), key=operator.itemgetter(1))[0:100]]\n",
      "\n",
      "print small_idf_tokens"
     ],
     "language": "python",
     "metadata": {},
     "outputs": [
      {
       "output_type": "stream",
       "stream": "stdout",
       "text": [
        "There are 73492 unique tokens in the tweets.\n",
        "['#coachella', 'rt', '\\xa6', 'amp', '@justinbieber', '@billboard', '50', '@beyonce', 'social', 'chart', 'boosts', 'weekend', 'coachella', 'day', '@scooterbraun', 'now', '#coachella2014', '@heffrondrive', '2', '@coachella', 'night', '@', 'festival', 'see', 'going', 'music', 'today', 'u', 'make', 'just', 'last', 'chance', 'look', 'rapper', '2014', 'like', 'thank', '1', 'time', 'sure', 'may', 'stage', 'go', 'native', '@alfredoflores', 'american', 'ran', 'are', \"can't\", 'figure', 'otherwise', '#jendall', 'tonight', 'imaginary', '@colesprouse', 'noth', 'jendall', 'katelyntarver', '-', 'best', 'back', '#muse', '@martingarrix', 'new', 'earlier', 'shut', 'bro', 'view', 'love', 'here', '@eonline', 'set', 'great', 'h', 'one', 'photos', '@calvinharris', '3', 'get', '@hrhpalmsprings', '#parallel', '@showtekmusic', '@eonlineuk', 'de', '@katyperry', '@jessjackson', '@str8fwdmusic', '@esty', '@jcjonesofficial', '\\xf0\\x9f\\x98\\x82', 'guy', 'got', 'literally', 'muse', 'good', 'food', '#heffrondrive', 'photo', 'happy', 'bad']"
       ]
      },
      {
       "output_type": "stream",
       "stream": "stdout",
       "text": [
        "\n"
       ]
      }
     ],
     "prompt_number": 56
    },
    {
     "cell_type": "code",
     "collapsed": false,
     "input": [
      "import pylab\n",
      "%matplotlib inline\n",
      "\n",
      "pylab.hist(tweet_idfs.values(), bins=100)\n"
     ],
     "language": "python",
     "metadata": {},
     "outputs": [
      {
       "metadata": {},
       "output_type": "pyout",
       "prompt_number": 33,
       "text": [
        "(array([ 1819,  1107,   797,   806,   714,   611,   500,   612,   387,\n",
        "         934,     0,   702,   695,     0,   983,     0,  1273,     0,\n",
        "           0,  1739,     0,     0,     0,     0,  2719,     0,     0,\n",
        "           0,     0,     0,     0,     0,     0,  4986,     0,     0,\n",
        "           0,     0,     0,     0,     0,     0,     0,     0,     0,\n",
        "           0,     0,     0,     0, 11806,     0,     0,     0,     0,\n",
        "           0,     0,     0,     0,     0,     0,     0,     0,     0,\n",
        "           0,     0,     0,     0,     0,     0,     0,     0,     0,\n",
        "           0,     0,     0,     0,     0,     0,     0,     0,     0,\n",
        "           0,     0,     0,     0,     0,     0,     0,     0,     0,\n",
        "           0,     0,     0,     0,     0,     0,     0,     0,     0, 68670]),\n",
        " array([  1.02930454e+00,   2.06773901e+03,   4.13444872e+03,\n",
        "         6.20115843e+03,   8.26786813e+03,   1.03345778e+04,\n",
        "         1.24012875e+04,   1.44679973e+04,   1.65347070e+04,\n",
        "         1.86014167e+04,   2.06681264e+04,   2.27348361e+04,\n",
        "         2.48015458e+04,   2.68682555e+04,   2.89349652e+04,\n",
        "         3.10016749e+04,   3.30683846e+04,   3.51350943e+04,\n",
        "         3.72018040e+04,   3.92685137e+04,   4.13352234e+04,\n",
        "         4.34019332e+04,   4.54686429e+04,   4.75353526e+04,\n",
        "         4.96020623e+04,   5.16687720e+04,   5.37354817e+04,\n",
        "         5.58021914e+04,   5.78689011e+04,   5.99356108e+04,\n",
        "         6.20023205e+04,   6.40690302e+04,   6.61357399e+04,\n",
        "         6.82024496e+04,   7.02691593e+04,   7.23358690e+04,\n",
        "         7.44025788e+04,   7.64692885e+04,   7.85359982e+04,\n",
        "         8.06027079e+04,   8.26694176e+04,   8.47361273e+04,\n",
        "         8.68028370e+04,   8.88695467e+04,   9.09362564e+04,\n",
        "         9.30029661e+04,   9.50696758e+04,   9.71363855e+04,\n",
        "         9.92030952e+04,   1.01269805e+05,   1.03336515e+05,\n",
        "         1.05403224e+05,   1.07469934e+05,   1.09536644e+05,\n",
        "         1.11603353e+05,   1.13670063e+05,   1.15736773e+05,\n",
        "         1.17803483e+05,   1.19870192e+05,   1.21936902e+05,\n",
        "         1.24003612e+05,   1.26070321e+05,   1.28137031e+05,\n",
        "         1.30203741e+05,   1.32270451e+05,   1.34337160e+05,\n",
        "         1.36403870e+05,   1.38470580e+05,   1.40537289e+05,\n",
        "         1.42603999e+05,   1.44670709e+05,   1.46737418e+05,\n",
        "         1.48804128e+05,   1.50870838e+05,   1.52937548e+05,\n",
        "         1.55004257e+05,   1.57070967e+05,   1.59137677e+05,\n",
        "         1.61204386e+05,   1.63271096e+05,   1.65337806e+05,\n",
        "         1.67404516e+05,   1.69471225e+05,   1.71537935e+05,\n",
        "         1.73604645e+05,   1.75671354e+05,   1.77738064e+05,\n",
        "         1.79804774e+05,   1.81871484e+05,   1.83938193e+05,\n",
        "         1.86004903e+05,   1.88071613e+05,   1.90138322e+05,\n",
        "         1.92205032e+05,   1.94271742e+05,   1.96338451e+05,\n",
        "         1.98405161e+05,   2.00471871e+05,   2.02538581e+05,\n",
        "         2.04605290e+05,   2.06672000e+05]),\n",
        " <a list of 100 Patch objects>)"
       ]
      },
      {
       "metadata": {},
       "output_type": "display_data",
       "png": "[encoded data removed]",
       "text": [
        "<matplotlib.figure.Figure at 0xec686ec>"
       ]
      }
     ],
     "prompt_number": 33
    }
   ],
   "metadata": {}
  }
 ]
}